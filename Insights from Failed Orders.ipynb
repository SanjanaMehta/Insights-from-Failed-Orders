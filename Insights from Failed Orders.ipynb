{
 "cells": [
  {
   "cell_type": "code",
   "execution_count": 1,
   "id": "4393ce01",
   "metadata": {},
   "outputs": [],
   "source": [
    "import pandas as pd"
   ]
  },
  {
   "cell_type": "code",
   "execution_count": 2,
   "id": "daebe05a",
   "metadata": {},
   "outputs": [],
   "source": [
    "df=pd.read_csv(r\"C:\\Users\\Sanjana\\Downloads\\my documents\\projects\\ride share\\datasets\\data_orders.csv\")"
   ]
  },
  {
   "cell_type": "code",
   "execution_count": 3,
   "id": "9a927d9f",
   "metadata": {},
   "outputs": [
    {
     "data": {
      "text/html": [
       "<div>\n",
       "<style scoped>\n",
       "    .dataframe tbody tr th:only-of-type {\n",
       "        vertical-align: middle;\n",
       "    }\n",
       "\n",
       "    .dataframe tbody tr th {\n",
       "        vertical-align: top;\n",
       "    }\n",
       "\n",
       "    .dataframe thead th {\n",
       "        text-align: right;\n",
       "    }\n",
       "</style>\n",
       "<table border=\"1\" class=\"dataframe\">\n",
       "  <thead>\n",
       "    <tr style=\"text-align: right;\">\n",
       "      <th></th>\n",
       "      <th>order_datetime</th>\n",
       "      <th>origin_longitude</th>\n",
       "      <th>origin_latitude</th>\n",
       "      <th>m_order_eta</th>\n",
       "      <th>order_gk</th>\n",
       "      <th>order_status_key</th>\n",
       "      <th>is_driver_assigned_key</th>\n",
       "      <th>cancellations_time_in_seconds</th>\n",
       "    </tr>\n",
       "  </thead>\n",
       "  <tbody>\n",
       "    <tr>\n",
       "      <th>0</th>\n",
       "      <td>18:08:07</td>\n",
       "      <td>-0.978916</td>\n",
       "      <td>51.456173</td>\n",
       "      <td>60.0</td>\n",
       "      <td>3000583041974</td>\n",
       "      <td>4</td>\n",
       "      <td>1</td>\n",
       "      <td>198.0</td>\n",
       "    </tr>\n",
       "    <tr>\n",
       "      <th>1</th>\n",
       "      <td>20:57:32</td>\n",
       "      <td>-0.950385</td>\n",
       "      <td>51.456843</td>\n",
       "      <td>NaN</td>\n",
       "      <td>3000583116437</td>\n",
       "      <td>4</td>\n",
       "      <td>0</td>\n",
       "      <td>128.0</td>\n",
       "    </tr>\n",
       "    <tr>\n",
       "      <th>2</th>\n",
       "      <td>12:07:50</td>\n",
       "      <td>-0.969520</td>\n",
       "      <td>51.455544</td>\n",
       "      <td>477.0</td>\n",
       "      <td>3000582891479</td>\n",
       "      <td>4</td>\n",
       "      <td>1</td>\n",
       "      <td>46.0</td>\n",
       "    </tr>\n",
       "    <tr>\n",
       "      <th>3</th>\n",
       "      <td>13:50:20</td>\n",
       "      <td>-1.054671</td>\n",
       "      <td>51.460544</td>\n",
       "      <td>658.0</td>\n",
       "      <td>3000582941169</td>\n",
       "      <td>4</td>\n",
       "      <td>1</td>\n",
       "      <td>62.0</td>\n",
       "    </tr>\n",
       "    <tr>\n",
       "      <th>4</th>\n",
       "      <td>21:24:45</td>\n",
       "      <td>-0.967605</td>\n",
       "      <td>51.458236</td>\n",
       "      <td>NaN</td>\n",
       "      <td>3000583140877</td>\n",
       "      <td>9</td>\n",
       "      <td>0</td>\n",
       "      <td>NaN</td>\n",
       "    </tr>\n",
       "    <tr>\n",
       "      <th>...</th>\n",
       "      <td>...</td>\n",
       "      <td>...</td>\n",
       "      <td>...</td>\n",
       "      <td>...</td>\n",
       "      <td>...</td>\n",
       "      <td>...</td>\n",
       "      <td>...</td>\n",
       "      <td>...</td>\n",
       "    </tr>\n",
       "    <tr>\n",
       "      <th>10711</th>\n",
       "      <td>13:11:35</td>\n",
       "      <td>-0.975372</td>\n",
       "      <td>51.457846</td>\n",
       "      <td>NaN</td>\n",
       "      <td>3000599186906</td>\n",
       "      <td>4</td>\n",
       "      <td>0</td>\n",
       "      <td>36.0</td>\n",
       "    </tr>\n",
       "    <tr>\n",
       "      <th>10712</th>\n",
       "      <td>13:13:55</td>\n",
       "      <td>-0.975372</td>\n",
       "      <td>51.457846</td>\n",
       "      <td>NaN</td>\n",
       "      <td>3000599186962</td>\n",
       "      <td>4</td>\n",
       "      <td>0</td>\n",
       "      <td>4.0</td>\n",
       "    </tr>\n",
       "    <tr>\n",
       "      <th>10713</th>\n",
       "      <td>13:17:21</td>\n",
       "      <td>-0.972926</td>\n",
       "      <td>51.457693</td>\n",
       "      <td>60.0</td>\n",
       "      <td>3000599187034</td>\n",
       "      <td>4</td>\n",
       "      <td>1</td>\n",
       "      <td>34.0</td>\n",
       "    </tr>\n",
       "    <tr>\n",
       "      <th>10714</th>\n",
       "      <td>13:16:28</td>\n",
       "      <td>-0.975372</td>\n",
       "      <td>51.457846</td>\n",
       "      <td>NaN</td>\n",
       "      <td>3000599187024</td>\n",
       "      <td>4</td>\n",
       "      <td>0</td>\n",
       "      <td>6.0</td>\n",
       "    </tr>\n",
       "    <tr>\n",
       "      <th>10715</th>\n",
       "      <td>11:49:35</td>\n",
       "      <td>-0.974738</td>\n",
       "      <td>51.458180</td>\n",
       "      <td>177.0</td>\n",
       "      <td>3000592871241</td>\n",
       "      <td>4</td>\n",
       "      <td>1</td>\n",
       "      <td>40.0</td>\n",
       "    </tr>\n",
       "  </tbody>\n",
       "</table>\n",
       "<p>10716 rows × 8 columns</p>\n",
       "</div>"
      ],
      "text/plain": [
       "      order_datetime  origin_longitude  origin_latitude  m_order_eta  \\\n",
       "0           18:08:07         -0.978916        51.456173         60.0   \n",
       "1           20:57:32         -0.950385        51.456843          NaN   \n",
       "2           12:07:50         -0.969520        51.455544        477.0   \n",
       "3           13:50:20         -1.054671        51.460544        658.0   \n",
       "4           21:24:45         -0.967605        51.458236          NaN   \n",
       "...              ...               ...              ...          ...   \n",
       "10711       13:11:35         -0.975372        51.457846          NaN   \n",
       "10712       13:13:55         -0.975372        51.457846          NaN   \n",
       "10713       13:17:21         -0.972926        51.457693         60.0   \n",
       "10714       13:16:28         -0.975372        51.457846          NaN   \n",
       "10715       11:49:35         -0.974738        51.458180        177.0   \n",
       "\n",
       "            order_gk  order_status_key  is_driver_assigned_key  \\\n",
       "0      3000583041974                 4                       1   \n",
       "1      3000583116437                 4                       0   \n",
       "2      3000582891479                 4                       1   \n",
       "3      3000582941169                 4                       1   \n",
       "4      3000583140877                 9                       0   \n",
       "...              ...               ...                     ...   \n",
       "10711  3000599186906                 4                       0   \n",
       "10712  3000599186962                 4                       0   \n",
       "10713  3000599187034                 4                       1   \n",
       "10714  3000599187024                 4                       0   \n",
       "10715  3000592871241                 4                       1   \n",
       "\n",
       "       cancellations_time_in_seconds  \n",
       "0                              198.0  \n",
       "1                              128.0  \n",
       "2                               46.0  \n",
       "3                               62.0  \n",
       "4                                NaN  \n",
       "...                              ...  \n",
       "10711                           36.0  \n",
       "10712                            4.0  \n",
       "10713                           34.0  \n",
       "10714                            6.0  \n",
       "10715                           40.0  \n",
       "\n",
       "[10716 rows x 8 columns]"
      ]
     },
     "execution_count": 3,
     "metadata": {},
     "output_type": "execute_result"
    }
   ],
   "source": [
    "df"
   ]
  },
  {
   "cell_type": "code",
   "execution_count": 4,
   "id": "f5746e82",
   "metadata": {},
   "outputs": [
    {
     "name": "stdout",
     "output_type": "stream",
     "text": [
      "<class 'pandas.core.frame.DataFrame'>\n",
      "RangeIndex: 10716 entries, 0 to 10715\n",
      "Data columns (total 8 columns):\n",
      " #   Column                         Non-Null Count  Dtype  \n",
      "---  ------                         --------------  -----  \n",
      " 0   order_datetime                 10716 non-null  object \n",
      " 1   origin_longitude               10716 non-null  float64\n",
      " 2   origin_latitude                10716 non-null  float64\n",
      " 3   m_order_eta                    2814 non-null   float64\n",
      " 4   order_gk                       10716 non-null  int64  \n",
      " 5   order_status_key               10716 non-null  int64  \n",
      " 6   is_driver_assigned_key         10716 non-null  int64  \n",
      " 7   cancellations_time_in_seconds  7307 non-null   float64\n",
      "dtypes: float64(4), int64(3), object(1)\n",
      "memory usage: 669.9+ KB\n"
     ]
    }
   ],
   "source": [
    "df.info()"
   ]
  },
  {
   "cell_type": "code",
   "execution_count": 5,
   "id": "bc01c520",
   "metadata": {},
   "outputs": [
    {
     "name": "stderr",
     "output_type": "stream",
     "text": [
      "<ipython-input-5-046e060bc70c>:1: UserWarning: Could not infer format, so each element will be parsed individually, falling back to `dateutil`. To ensure parsing is consistent and as-expected, please specify a format.\n",
      "  pd.to_datetime(df['order_datetime'])\n"
     ]
    },
    {
     "data": {
      "text/plain": [
       "0       2025-07-12 18:08:07\n",
       "1       2025-07-12 20:57:32\n",
       "2       2025-07-12 12:07:50\n",
       "3       2025-07-12 13:50:20\n",
       "4       2025-07-12 21:24:45\n",
       "                ...        \n",
       "10711   2025-07-12 13:11:35\n",
       "10712   2025-07-12 13:13:55\n",
       "10713   2025-07-12 13:17:21\n",
       "10714   2025-07-12 13:16:28\n",
       "10715   2025-07-12 11:49:35\n",
       "Name: order_datetime, Length: 10716, dtype: datetime64[ns]"
      ]
     },
     "execution_count": 5,
     "metadata": {},
     "output_type": "execute_result"
    }
   ],
   "source": [
    "pd.to_datetime(df['order_datetime'])"
   ]
  },
  {
   "cell_type": "code",
   "execution_count": 6,
   "id": "718157fa",
   "metadata": {},
   "outputs": [
    {
     "data": {
      "text/html": [
       "<div>\n",
       "<style scoped>\n",
       "    .dataframe tbody tr th:only-of-type {\n",
       "        vertical-align: middle;\n",
       "    }\n",
       "\n",
       "    .dataframe tbody tr th {\n",
       "        vertical-align: top;\n",
       "    }\n",
       "\n",
       "    .dataframe thead th {\n",
       "        text-align: right;\n",
       "    }\n",
       "</style>\n",
       "<table border=\"1\" class=\"dataframe\">\n",
       "  <thead>\n",
       "    <tr style=\"text-align: right;\">\n",
       "      <th></th>\n",
       "      <th>origin_longitude</th>\n",
       "      <th>origin_latitude</th>\n",
       "      <th>m_order_eta</th>\n",
       "      <th>order_gk</th>\n",
       "      <th>order_status_key</th>\n",
       "      <th>is_driver_assigned_key</th>\n",
       "      <th>cancellations_time_in_seconds</th>\n",
       "    </tr>\n",
       "  </thead>\n",
       "  <tbody>\n",
       "    <tr>\n",
       "      <th>count</th>\n",
       "      <td>10716.000000</td>\n",
       "      <td>10716.000000</td>\n",
       "      <td>2814.000000</td>\n",
       "      <td>1.071600e+04</td>\n",
       "      <td>10716.000000</td>\n",
       "      <td>10716.000000</td>\n",
       "      <td>7307.000000</td>\n",
       "    </tr>\n",
       "    <tr>\n",
       "      <th>mean</th>\n",
       "      <td>-0.964323</td>\n",
       "      <td>51.450541</td>\n",
       "      <td>441.415423</td>\n",
       "      <td>3.000598e+12</td>\n",
       "      <td>5.590612</td>\n",
       "      <td>0.262598</td>\n",
       "      <td>157.892021</td>\n",
       "    </tr>\n",
       "    <tr>\n",
       "      <th>std</th>\n",
       "      <td>0.022818</td>\n",
       "      <td>0.011984</td>\n",
       "      <td>288.006379</td>\n",
       "      <td>2.396261e+07</td>\n",
       "      <td>2.328845</td>\n",
       "      <td>0.440066</td>\n",
       "      <td>213.366963</td>\n",
       "    </tr>\n",
       "    <tr>\n",
       "      <th>min</th>\n",
       "      <td>-1.066957</td>\n",
       "      <td>51.399323</td>\n",
       "      <td>60.000000</td>\n",
       "      <td>3.000550e+12</td>\n",
       "      <td>4.000000</td>\n",
       "      <td>0.000000</td>\n",
       "      <td>3.000000</td>\n",
       "    </tr>\n",
       "    <tr>\n",
       "      <th>25%</th>\n",
       "      <td>-0.974363</td>\n",
       "      <td>51.444643</td>\n",
       "      <td>233.000000</td>\n",
       "      <td>3.000583e+12</td>\n",
       "      <td>4.000000</td>\n",
       "      <td>0.000000</td>\n",
       "      <td>45.000000</td>\n",
       "    </tr>\n",
       "    <tr>\n",
       "      <th>50%</th>\n",
       "      <td>-0.966386</td>\n",
       "      <td>51.451972</td>\n",
       "      <td>368.500000</td>\n",
       "      <td>3.000595e+12</td>\n",
       "      <td>4.000000</td>\n",
       "      <td>0.000000</td>\n",
       "      <td>98.000000</td>\n",
       "    </tr>\n",
       "    <tr>\n",
       "      <th>75%</th>\n",
       "      <td>-0.949605</td>\n",
       "      <td>51.456725</td>\n",
       "      <td>653.000000</td>\n",
       "      <td>3.000623e+12</td>\n",
       "      <td>9.000000</td>\n",
       "      <td>1.000000</td>\n",
       "      <td>187.500000</td>\n",
       "    </tr>\n",
       "    <tr>\n",
       "      <th>max</th>\n",
       "      <td>-0.867088</td>\n",
       "      <td>51.496169</td>\n",
       "      <td>1559.000000</td>\n",
       "      <td>3.000633e+12</td>\n",
       "      <td>9.000000</td>\n",
       "      <td>1.000000</td>\n",
       "      <td>4303.000000</td>\n",
       "    </tr>\n",
       "  </tbody>\n",
       "</table>\n",
       "</div>"
      ],
      "text/plain": [
       "       origin_longitude  origin_latitude  m_order_eta      order_gk  \\\n",
       "count      10716.000000     10716.000000  2814.000000  1.071600e+04   \n",
       "mean          -0.964323        51.450541   441.415423  3.000598e+12   \n",
       "std            0.022818         0.011984   288.006379  2.396261e+07   \n",
       "min           -1.066957        51.399323    60.000000  3.000550e+12   \n",
       "25%           -0.974363        51.444643   233.000000  3.000583e+12   \n",
       "50%           -0.966386        51.451972   368.500000  3.000595e+12   \n",
       "75%           -0.949605        51.456725   653.000000  3.000623e+12   \n",
       "max           -0.867088        51.496169  1559.000000  3.000633e+12   \n",
       "\n",
       "       order_status_key  is_driver_assigned_key  cancellations_time_in_seconds  \n",
       "count      10716.000000            10716.000000                    7307.000000  \n",
       "mean           5.590612                0.262598                     157.892021  \n",
       "std            2.328845                0.440066                     213.366963  \n",
       "min            4.000000                0.000000                       3.000000  \n",
       "25%            4.000000                0.000000                      45.000000  \n",
       "50%            4.000000                0.000000                      98.000000  \n",
       "75%            9.000000                1.000000                     187.500000  \n",
       "max            9.000000                1.000000                    4303.000000  "
      ]
     },
     "execution_count": 6,
     "metadata": {},
     "output_type": "execute_result"
    }
   ],
   "source": [
    "df.describe()"
   ]
  },
  {
   "cell_type": "code",
   "execution_count": 7,
   "id": "b97f1fbe",
   "metadata": {
    "scrolled": true
   },
   "outputs": [
    {
     "data": {
      "text/plain": [
       "order_datetime                      0\n",
       "origin_longitude                    0\n",
       "origin_latitude                     0\n",
       "m_order_eta                      7902\n",
       "order_gk                            0\n",
       "order_status_key                    0\n",
       "is_driver_assigned_key              0\n",
       "cancellations_time_in_seconds    3409\n",
       "dtype: int64"
      ]
     },
     "execution_count": 7,
     "metadata": {},
     "output_type": "execute_result"
    }
   ],
   "source": [
    "df.isnull().sum()"
   ]
  },
  {
   "cell_type": "code",
   "execution_count": 8,
   "id": "8557ed80",
   "metadata": {
    "scrolled": false
   },
   "outputs": [
    {
     "name": "stderr",
     "output_type": "stream",
     "text": [
      "C:\\Users\\Sanjana\\anaconda3\\lib\\site-packages\\seaborn\\_decorators.py:36: FutureWarning: Pass the following variable as a keyword arg: x. From version 0.12, the only valid positional argument will be `data`, and passing other arguments without an explicit keyword will result in an error or misinterpretation.\n",
      "  warnings.warn(\n"
     ]
    },
    {
     "data": {
      "text/plain": [
       "<AxesSubplot:xlabel='m_order_eta'>"
      ]
     },
     "execution_count": 8,
     "metadata": {},
     "output_type": "execute_result"
    },
    {
     "data": {
      "image/png": "[encoded data removed]",
      "text/plain": [
       "<Figure size 432x288 with 1 Axes>"
      ]
     },
     "metadata": {
      "needs_background": "light"
     },
     "output_type": "display_data"
    }
   ],
   "source": [
    "import seaborn as sns\n",
    "sns.boxplot(df['m_order_eta'])"
   ]
  },
  {
   "cell_type": "code",
   "execution_count": 9,
   "id": "4ba73d8c",
   "metadata": {},
   "outputs": [
    {
     "data": {
      "text/plain": [
       "<AxesSubplot:xlabel='m_order_eta', ylabel='Count'>"
      ]
     },
     "execution_count": 9,
     "metadata": {},
     "output_type": "execute_result"
    },
    {
     "data": {
      "image/png": "[encoded data removed]",
      "text/plain": [
       "<Figure size 432x288 with 1 Axes>"
      ]
     },
     "metadata": {
      "needs_background": "light"
     },
     "output_type": "display_data"
    }
   ],
   "source": [
    "sns.histplot(df[\"m_order_eta\"])"
   ]
  },
  {
   "cell_type": "code",
   "execution_count": 10,
   "id": "50f83239",
   "metadata": {},
   "outputs": [
    {
     "data": {
      "text/plain": [
       "0"
      ]
     },
     "execution_count": 10,
     "metadata": {},
     "output_type": "execute_result"
    }
   ],
   "source": [
    "df['m_order_eta'].fillna(368.500000,inplace=True)\n",
    "df['m_order_eta'].isnull().sum()"
   ]
  },
  {
   "cell_type": "code",
   "execution_count": 11,
   "id": "85c90aab",
   "metadata": {},
   "outputs": [],
   "source": [
    "import matplotlib.pyplot as plt"
   ]
  },
  {
   "cell_type": "code",
   "execution_count": 12,
   "id": "7634f28d",
   "metadata": {
    "scrolled": false
   },
   "outputs": [
    {
     "data": {
      "image/png": "[encoded data removed]",
      "text/plain": [
       "<Figure size 432x288 with 1 Axes>"
      ]
     },
     "metadata": {
      "needs_background": "light"
     },
     "output_type": "display_data"
    },
    {
     "data": {
      "image/png": "[encoded data removed]",
      "text/plain": [
       "<Figure size 432x288 with 1 Axes>"
      ]
     },
     "metadata": {
      "needs_background": "light"
     },
     "output_type": "display_data"
    },
    {
     "data": {
      "image/png": "[encoded data removed]",
      "text/plain": [
       "<Figure size 432x288 with 1 Axes>"
      ]
     },
     "metadata": {
      "needs_background": "light"
     },
     "output_type": "display_data"
    },
    {
     "data": {
      "image/png": "[encoded data removed]",
      "text/plain": [
       "<Figure size 432x288 with 1 Axes>"
      ]
     },
     "metadata": {
      "needs_background": "light"
     },
     "output_type": "display_data"
    }
   ],
   "source": [
    "cols=['origin_longitude', 'origin_latitude', 'order_gk', 'cancellations_time_in_seconds']\n",
    "for col in cols:\n",
    "    plt.figure(figsize=(6, 4))\n",
    "    sns.boxplot(x=df[col])\n",
    "    plt.title(f'Boxplot of {col}')\n",
    "    plt.xlabel(col)\n",
    "    plt.tight_layout()\n",
    "    plt.show()"
   ]
  },
  {
   "cell_type": "code",
   "execution_count": 13,
   "id": "ce9c6f7f",
   "metadata": {},
   "outputs": [
    {
     "data": {
      "image/png": "[encoded data removed]",
      "text/plain": [
       "<Figure size 432x288 with 1 Axes>"
      ]
     },
     "metadata": {
      "needs_background": "light"
     },
     "output_type": "display_data"
    },
    {
     "data": {
      "image/png": "[encoded data removed]",
      "text/plain": [
       "<Figure size 432x288 with 1 Axes>"
      ]
     },
     "metadata": {
      "needs_background": "light"
     },
     "output_type": "display_data"
    },
    {
     "data": {
      "image/png": "[encoded data removed]",
      "text/plain": [
       "<Figure size 432x288 with 1 Axes>"
      ]
     },
     "metadata": {
      "needs_background": "light"
     },
     "output_type": "display_data"
    },
    {
     "data": {
      "image/png": "[encoded data removed]",
      "text/plain": [
       "<Figure size 432x288 with 1 Axes>"
      ]
     },
     "metadata": {
      "needs_background": "light"
     },
     "output_type": "display_data"
    }
   ],
   "source": [
    "cols=['origin_longitude', 'origin_latitude', 'order_gk', 'cancellations_time_in_seconds']\n",
    "for col in cols:\n",
    "    plt.figure(figsize=(6, 4))\n",
    "    sns.histplot(x=df[col])\n",
    "    plt.title(f'Boxplot of {col}')\n",
    "    plt.xlabel(col)\n",
    "    plt.tight_layout()\n",
    "    plt.show()"
   ]
  },
  {
   "cell_type": "code",
   "execution_count": 14,
   "id": "0cbb3a50",
   "metadata": {},
   "outputs": [
    {
     "data": {
      "text/plain": [
       "cancellations_time_in_seconds\n",
       "10.0     67\n",
       "9.0      64\n",
       "16.0     60\n",
       "6.0      60\n",
       "12.0     58\n",
       "         ..\n",
       "412.0     1\n",
       "467.0     1\n",
       "961.0     1\n",
       "661.0     1\n",
       "461.0     1\n",
       "Name: count, Length: 772, dtype: int64"
      ]
     },
     "execution_count": 14,
     "metadata": {},
     "output_type": "execute_result"
    }
   ],
   "source": [
    "df['cancellations_time_in_seconds'].value_counts()"
   ]
  },
  {
   "cell_type": "code",
   "execution_count": 15,
   "id": "23ce0b1c",
   "metadata": {},
   "outputs": [],
   "source": [
    "df['cancellations_time_in_seconds'].fillna(98.000000,inplace=True)"
   ]
  },
  {
   "cell_type": "code",
   "execution_count": 16,
   "id": "f37480e3",
   "metadata": {},
   "outputs": [
    {
     "data": {
      "text/plain": [
       "0"
      ]
     },
     "execution_count": 16,
     "metadata": {},
     "output_type": "execute_result"
    }
   ],
   "source": [
    "df['cancellations_time_in_seconds'].isnull().sum()"
   ]
  },
  {
   "cell_type": "code",
   "execution_count": 17,
   "id": "32f5a484",
   "metadata": {
    "scrolled": true
   },
   "outputs": [
    {
     "data": {
      "text/html": [
       "<div>\n",
       "<style scoped>\n",
       "    .dataframe tbody tr th:only-of-type {\n",
       "        vertical-align: middle;\n",
       "    }\n",
       "\n",
       "    .dataframe tbody tr th {\n",
       "        vertical-align: top;\n",
       "    }\n",
       "\n",
       "    .dataframe thead th {\n",
       "        text-align: right;\n",
       "    }\n",
       "</style>\n",
       "<table border=\"1\" class=\"dataframe\">\n",
       "  <thead>\n",
       "    <tr style=\"text-align: right;\">\n",
       "      <th></th>\n",
       "      <th>origin_longitude</th>\n",
       "      <th>origin_latitude</th>\n",
       "      <th>m_order_eta</th>\n",
       "      <th>order_gk</th>\n",
       "      <th>order_status_key</th>\n",
       "      <th>is_driver_assigned_key</th>\n",
       "      <th>cancellations_time_in_seconds</th>\n",
       "    </tr>\n",
       "  </thead>\n",
       "  <tbody>\n",
       "    <tr>\n",
       "      <th>count</th>\n",
       "      <td>10716.000000</td>\n",
       "      <td>10716.000000</td>\n",
       "      <td>10716.000000</td>\n",
       "      <td>1.071600e+04</td>\n",
       "      <td>10716.000000</td>\n",
       "      <td>10716.000000</td>\n",
       "      <td>10716.000000</td>\n",
       "    </tr>\n",
       "    <tr>\n",
       "      <th>mean</th>\n",
       "      <td>-0.964323</td>\n",
       "      <td>51.450541</td>\n",
       "      <td>387.647443</td>\n",
       "      <td>3.000598e+12</td>\n",
       "      <td>5.590612</td>\n",
       "      <td>0.262598</td>\n",
       "      <td>138.839026</td>\n",
       "    </tr>\n",
       "    <tr>\n",
       "      <th>std</th>\n",
       "      <td>0.022818</td>\n",
       "      <td>0.011984</td>\n",
       "      <td>151.015890</td>\n",
       "      <td>2.396261e+07</td>\n",
       "      <td>2.328845</td>\n",
       "      <td>0.440066</td>\n",
       "      <td>178.380541</td>\n",
       "    </tr>\n",
       "    <tr>\n",
       "      <th>min</th>\n",
       "      <td>-1.066957</td>\n",
       "      <td>51.399323</td>\n",
       "      <td>60.000000</td>\n",
       "      <td>3.000550e+12</td>\n",
       "      <td>4.000000</td>\n",
       "      <td>0.000000</td>\n",
       "      <td>3.000000</td>\n",
       "    </tr>\n",
       "    <tr>\n",
       "      <th>25%</th>\n",
       "      <td>-0.974363</td>\n",
       "      <td>51.444643</td>\n",
       "      <td>368.500000</td>\n",
       "      <td>3.000583e+12</td>\n",
       "      <td>4.000000</td>\n",
       "      <td>0.000000</td>\n",
       "      <td>67.000000</td>\n",
       "    </tr>\n",
       "    <tr>\n",
       "      <th>50%</th>\n",
       "      <td>-0.966386</td>\n",
       "      <td>51.451972</td>\n",
       "      <td>368.500000</td>\n",
       "      <td>3.000595e+12</td>\n",
       "      <td>4.000000</td>\n",
       "      <td>0.000000</td>\n",
       "      <td>98.000000</td>\n",
       "    </tr>\n",
       "    <tr>\n",
       "      <th>75%</th>\n",
       "      <td>-0.949605</td>\n",
       "      <td>51.456725</td>\n",
       "      <td>368.500000</td>\n",
       "      <td>3.000623e+12</td>\n",
       "      <td>9.000000</td>\n",
       "      <td>1.000000</td>\n",
       "      <td>139.000000</td>\n",
       "    </tr>\n",
       "    <tr>\n",
       "      <th>max</th>\n",
       "      <td>-0.867088</td>\n",
       "      <td>51.496169</td>\n",
       "      <td>1559.000000</td>\n",
       "      <td>3.000633e+12</td>\n",
       "      <td>9.000000</td>\n",
       "      <td>1.000000</td>\n",
       "      <td>4303.000000</td>\n",
       "    </tr>\n",
       "  </tbody>\n",
       "</table>\n",
       "</div>"
      ],
      "text/plain": [
       "       origin_longitude  origin_latitude   m_order_eta      order_gk  \\\n",
       "count      10716.000000     10716.000000  10716.000000  1.071600e+04   \n",
       "mean          -0.964323        51.450541    387.647443  3.000598e+12   \n",
       "std            0.022818         0.011984    151.015890  2.396261e+07   \n",
       "min           -1.066957        51.399323     60.000000  3.000550e+12   \n",
       "25%           -0.974363        51.444643    368.500000  3.000583e+12   \n",
       "50%           -0.966386        51.451972    368.500000  3.000595e+12   \n",
       "75%           -0.949605        51.456725    368.500000  3.000623e+12   \n",
       "max           -0.867088        51.496169   1559.000000  3.000633e+12   \n",
       "\n",
       "       order_status_key  is_driver_assigned_key  cancellations_time_in_seconds  \n",
       "count      10716.000000            10716.000000                   10716.000000  \n",
       "mean           5.590612                0.262598                     138.839026  \n",
       "std            2.328845                0.440066                     178.380541  \n",
       "min            4.000000                0.000000                       3.000000  \n",
       "25%            4.000000                0.000000                      67.000000  \n",
       "50%            4.000000                0.000000                      98.000000  \n",
       "75%            9.000000                1.000000                     139.000000  \n",
       "max            9.000000                1.000000                    4303.000000  "
      ]
     },
     "execution_count": 17,
     "metadata": {},
     "output_type": "execute_result"
    }
   ],
   "source": [
    "df.describe()"
   ]
  },
  {
   "cell_type": "markdown",
   "id": "d6751315",
   "metadata": {},
   "source": [
    "### Build up distribution of orders according to reasons for failure: cancellations before and after driver assignment, and reasons for order rejection. Analyse the resulting plot. Which category has the highest number of orders?"
   ]
  },
  {
   "cell_type": "code",
   "execution_count": 18,
   "id": "7b49edc3",
   "metadata": {},
   "outputs": [
    {
     "name": "stderr",
     "output_type": "stream",
     "text": [
      "C:\\Users\\Sanjana\\anaconda3\\lib\\site-packages\\seaborn\\_decorators.py:36: FutureWarning: Pass the following variable as a keyword arg: x. From version 0.12, the only valid positional argument will be `data`, and passing other arguments without an explicit keyword will result in an error or misinterpretation.\n",
      "  warnings.warn(\n"
     ]
    },
    {
     "data": {
      "text/plain": [
       "Text(0.5, 0, 'Driver Assigned')"
      ]
     },
     "execution_count": 18,
     "metadata": {},
     "output_type": "execute_result"
    },
    {
     "data": {
      "image/png": "[encoded data removed]",
      "text/plain": [
       "<Figure size 432x288 with 1 Axes>"
      ]
     },
     "metadata": {
      "needs_background": "light"
     },
     "output_type": "display_data"
    }
   ],
   "source": [
    "sns.countplot(df['is_driver_assigned_key'],hue=df['order_status_key'])\n",
    "plt.legend(loc='upper right', title='order cancelled by')\n",
    "plt.title(f'Driver Assigned and order cancelled by system or user')\n",
    "plt.xlabel('Driver Assigned')"
   ]
  },
  {
   "cell_type": "markdown",
   "id": "2ad990a9",
   "metadata": {},
   "source": [
    "Assignment\n",
    "\n",
    "Build up distribution of orders according to reasons for failure: cancellations before and after driver assignment, and reasons for order rejection. Analyse the resulting plot. Which category has the highest number of orders?\n",
    "\n",
    "Plot the distribution of failed orders by hours. Is there a trend that certain hours have an abnormally high proportion of one category or another? What hours are the biggest fails? How can this be explained?\n",
    "\n",
    "Plot the average time to cancellation with and without driver, by the hour. If there are any outliers in the data, it would be better to remove them. Can we draw any conclusions from this plot?\n",
    "\n",
    "Plot the distribution of average ETA by hours. How can this plot be explained?\n",
    "\n",
    "order_datetime - time of the order\n",
    "\n",
    "origin_longitude - longitude of the order\n",
    "\n",
    "origin_latitude - latitude of the order\n",
    "\n",
    "m_order_eta - time before order arrival\n",
    "\n",
    "order_gk - order number\n",
    "\n",
    "order_status_key - status, an enumeration consisting of the following mapping:\n",
    "\n",
    "4 - cancelled by client,\n",
    "\n",
    "9 - cancelled by system, i.e., a reject\n",
    "\n",
    "is_driver_assigned_key - whether a driver has been assigned\n",
    "\n",
    "cancellation_time_in_seconds - how many seconds passed before cancellation"
   ]
  }
 ],
 "metadata": {
  "kernelspec": {
   "display_name": "Python 3",
   "language": "python",
   "name": "python3"
  },
  "language_info": {
   "codemirror_mode": {
    "name": "ipython",
    "version": 3
   },
   "file_extension": ".py",
   "mimetype": "text/x-python",
   "name": "python",
   "nbconvert_exporter": "python",
   "pygments_lexer": "ipython3",
   "version": "3.8.8"
  }
 },
 "nbformat": 4,
 "nbformat_minor": 5
}
